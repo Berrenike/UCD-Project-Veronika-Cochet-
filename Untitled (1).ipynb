{
 "cells": [
  {
   "cell_type": "markdown",
   "id": "9fd6c7d0",
   "metadata": {},
   "source": [
    "# Project Scenario - Analysing Goodreads \"most popular books\" database data to answer following questions:\n",
    "\n",
    "What Are the Highest Reviewed/Rated Books?\n",
    "What Are the Lowest Reviewed/Rated Books?\n",
    "What Is the Rating Distribution for the Books?\n",
    "Which Category Has a Wider Range and Distribution?\n",
    "What Is Reviews Distribution?\n",
    "Who Has Written the Most Books?\n",
    "Which Year Has the Highest User Rating?\n",
    "Which Year Has the most popular books published?"
   ]
  },
  {
   "cell_type": "markdown",
   "id": "785f3934",
   "metadata": {},
   "source": [
    "Importing Libraries: "
   ]
  },
  {
   "cell_type": "code",
   "execution_count": 1,
   "id": "1f5961d5",
   "metadata": {},
   "outputs": [],
   "source": [
    "import pandas as pd\n",
    "import numpy as np\n",
    "import matplotlib.pyplot as plt\n",
    "import seaborn as sns "
   ]
  },
  {
   "cell_type": "markdown",
   "id": "37d4b0ce",
   "metadata": {},
   "source": [
    "# Importing Data - import CSV file into Pandas "
   ]
  },
  {
   "cell_type": "code",
   "execution_count": 2,
   "id": "f88b5032",
   "metadata": {},
   "outputs": [],
   "source": [
    "df1 = pd.read_csv('good_reads_final.csv', parse_dates=['publish_date'], skipinitialspace=True)"
   ]
  },
  {
   "cell_type": "code",
   "execution_count": 3,
   "id": "f3429e6b",
   "metadata": {},
   "outputs": [
    {
     "name": "stdout",
     "output_type": "stream",
     "text": [
      "(22891, 20)\n"
     ]
    }
   ],
   "source": [
    "print(df1.shape)"
   ]
  },
  {
   "cell_type": "code",
   "execution_count": 4,
   "id": "0b23c8c7",
   "metadata": {},
   "outputs": [
    {
     "name": "stdout",
     "output_type": "stream",
     "text": [
      "author_average_rating    float64\n",
      "author_gender             object\n",
      "author_genres             object\n",
      "author_id                  int64\n",
      "author_name               object\n",
      "author_page_url           object\n",
      "author_rating_count        int64\n",
      "author_review_count        int64\n",
      "birthplace                object\n",
      "book_average_rating      float64\n",
      "book_fullurl              object\n",
      "book_id                   object\n",
      "book_title                object\n",
      "genre_1                   object\n",
      "genre_2                   object\n",
      "num_ratings                int64\n",
      "num_reviews                int64\n",
      "pages                     object\n",
      "publish_date              object\n",
      "score                      int64\n",
      "dtype: object\n"
     ]
    }
   ],
   "source": [
    "# Exploring Data Types\n",
    "print(df1.dtypes)"
   ]
  },
  {
   "cell_type": "markdown",
   "id": "d1b5e58a",
   "metadata": {},
   "source": [
    "# Cleaning the Data  "
   ]
  },
  {
   "cell_type": "code",
   "execution_count": 5,
   "id": "c63d1a19",
   "metadata": {},
   "outputs": [
    {
     "name": "stdout",
     "output_type": "stream",
     "text": [
      "author_average_rating - 0.0%\n",
      "author_gender - 0.0%\n",
      "author_genres - 0.0%\n",
      "author_id - 0.0%\n",
      "author_name - 0.0%\n",
      "author_page_url - 0.0%\n",
      "author_rating_count - 0.0%\n",
      "author_review_count - 0.0%\n",
      "birthplace - 0.0%\n",
      "book_average_rating - 0.0%\n",
      "book_fullurl - 0.0%\n",
      "book_id - 0.0%\n",
      "book_title - 0.0%\n",
      "genre_1 - 0.0%\n",
      "genre_2 - 0.0%\n",
      "num_ratings - 0.0%\n",
      "num_reviews - 0.0%\n",
      "pages - 0.0%\n",
      "publish_date - 1.2%\n",
      "score - 0.0%\n"
     ]
    }
   ],
   "source": [
    "# Creating a loop to go through columns and calculate the missing values\n",
    "for col in df1.columns:\n",
    "    pct_missing = df1[col].isnull().mean()\n",
    "    print(f'{col} - {pct_missing :.1%}')"
   ]
  },
  {
   "cell_type": "markdown",
   "id": "c2bbb3e0",
   "metadata": {},
   "source": [
    "The only missing values are around 1% in the publish date. There are no big gaps of missing values so we can move forward. "
   ]
  },
  {
   "cell_type": "code",
   "execution_count": 6,
   "id": "00eea2a3",
   "metadata": {
    "scrolled": true
   },
   "outputs": [
    {
     "name": "stdout",
     "output_type": "stream",
     "text": [
      "Column author_average_rating contains duplicates.\n",
      "Column author_gender contains duplicates.\n",
      "Column author_genres contains duplicates.\n",
      "Column author_id contains duplicates.\n",
      "Column author_name contains duplicates.\n",
      "Column author_page_url contains duplicates.\n",
      "Column author_rating_count contains duplicates.\n",
      "Column author_review_count contains duplicates.\n",
      "Column birthplace contains duplicates.\n",
      "Column book_average_rating contains duplicates.\n",
      "Column book_fullurl contains duplicates.\n",
      "Column book_id contains duplicates.\n",
      "Column book_title contains duplicates.\n",
      "Column genre_1 contains duplicates.\n",
      "Column genre_2 contains duplicates.\n",
      "Column num_ratings contains duplicates.\n",
      "Column num_reviews contains duplicates.\n",
      "Column pages contains duplicates.\n",
      "Column publish_date contains duplicates.\n",
      "Column score contains duplicates.\n"
     ]
    }
   ],
   "source": [
    "# Checking for duplicates in the Name column to clean the list of bestsellers\n",
    "for col in df1:\n",
    "    if df1[col].duplicated().any() == True:\n",
    "        print (f'Column {col} contains duplicates.')\n",
    "    else:\n",
    "        print (f'Column {col} does not contain duplicates.')"
   ]
  },
  {
   "cell_type": "markdown",
   "id": "9438957f",
   "metadata": {},
   "source": [
    "Column book_title shouldn't contain duplicates, we should explore this to seethe reason."
   ]
  },
  {
   "cell_type": "code",
   "execution_count": 7,
   "id": "5914d534",
   "metadata": {
    "scrolled": true
   },
   "outputs": [
    {
     "name": "stdout",
     "output_type": "stream",
     "text": [
      "0                     \\n      Murder on St. Mark's Place\\n\n",
      "1                \\n      The Girl with the Dragon Tattoo\\n\n",
      "2                           \\n      Tailored for Trouble\\n\n",
      "3                      \\n      The Obscene Bird of Night\\n\n",
      "4        \\n      Sorcery & Cecelia: or The Enchanted Ch...\n",
      "                               ...                        \n",
      "22886                           \\n      Gotta Have Faith\\n\n",
      "22887                           \\n      Payton's Pursuit\\n\n",
      "22888                          \\n      My Viking Vampire\\n\n",
      "22889                                \\n      The Trinity\\n\n",
      "22890                \\n      Volatile Breath of Darkness\\n\n",
      "Name: book_title, Length: 22891, dtype: object\n"
     ]
    }
   ],
   "source": [
    "print(df1[\"book_title\"])"
   ]
  },
  {
   "cell_type": "code",
   "execution_count": 8,
   "id": "06d7b121",
   "metadata": {
    "scrolled": true
   },
   "outputs": [
    {
     "name": "stdout",
     "output_type": "stream",
     "text": [
      "0                               Murder on St. Mark's Place\n",
      "1                          The Girl with the Dragon Tattoo\n",
      "2                                     Tailored for Trouble\n",
      "3                                The Obscene Bird of Night\n",
      "4              Sorcery & Cecelia: or The Enchanted Choc...\n",
      "                               ...                        \n",
      "22886                                     Gotta Have Faith\n",
      "22887                                     Payton's Pursuit\n",
      "22888                                    My Viking Vampire\n",
      "22889                                          The Trinity\n",
      "22890                          Volatile Breath of Darkness\n",
      "Name: book_title, Length: 22891, dtype: object\n"
     ]
    }
   ],
   "source": [
    "# As the dataset have a lot of '\\n'characters we will remove them and verify\n",
    "df1 = df1.replace('\\n','', regex=True)\n",
    "print(df1[\"book_title\"])"
   ]
  },
  {
   "cell_type": "code",
   "execution_count": 63,
   "id": "67110350",
   "metadata": {},
   "outputs": [],
   "source": [
    "df1_dups = df1[df1.duplicated(['book_title', 'author_name', \"genre_1\"])]"
   ]
  },
  {
   "cell_type": "code",
   "execution_count": 10,
   "id": "2d7a4349",
   "metadata": {
    "scrolled": true
   },
   "outputs": [
    {
     "name": "stdout",
     "output_type": "stream",
     "text": [
      "      Forbidden                      16\n",
      "      Taken                           9\n",
      "      The Awakening                   9\n",
      "      Unbreakable                     8\n",
      "      Crash                           8\n",
      "                                     ..\n",
      "      The Look                        1\n",
      "      Saltwater Vampires              1\n",
      "      Rex Rising                      1\n",
      "      I Am Ocilla                     1\n",
      "      Volatile Breath of Darkness     1\n",
      "Name: book_title, Length: 16350, dtype: int64\n"
     ]
    }
   ],
   "source": [
    "unique_books = df1[\"book_title\"].value_counts()\n",
    "print(unique_books)"
   ]
  },
  {
   "cell_type": "markdown",
   "id": "46fdb3b4",
   "metadata": {},
   "source": [
    "Not removing the duplicates, as different books could have different edition and could be popular in different times. We will continue the analysis with the dataset. "
   ]
  },
  {
   "cell_type": "code",
   "execution_count": 57,
   "id": "0ff6daf0",
   "metadata": {},
   "outputs": [
    {
     "data": {
      "text/plain": [
       "Author_Rating                  object\n",
       "author_gender                  object\n",
       "author_genres                  object\n",
       "author_id                      object\n",
       "author_name                    object\n",
       "author_page_url                object\n",
       "author_rating_count             int64\n",
       "author_review_count             int64\n",
       "birthplace                     object\n",
       "book_average_rating           float64\n",
       "book_fullurl                   object\n",
       "book_id                        object\n",
       "book_title                     object\n",
       "genre_1                        object\n",
       "genre_2                        object\n",
       "num_ratings                     int64\n",
       "num_reviews                     int64\n",
       "pages                          object\n",
       "publish_date           datetime64[ns]\n",
       "score                           int64\n",
       "year                          float64\n",
       "dtype: object"
      ]
     },
     "execution_count": 57,
     "metadata": {},
     "output_type": "execute_result"
    }
   ],
   "source": [
    "df1.astype({'author_id': 'object'}).dtypes\n"
   ]
  },
  {
   "cell_type": "markdown",
   "id": "e6bc1618",
   "metadata": {},
   "source": [
    "# Analysis"
   ]
  },
  {
   "cell_type": "markdown",
   "id": "d4ebeb72",
   "metadata": {},
   "source": [
    "Exploratory Analysis. "
   ]
  },
  {
   "cell_type": "code",
   "execution_count": 11,
   "id": "f5aa2d43",
   "metadata": {
    "scrolled": true
   },
   "outputs": [
    {
     "data": {
      "text/plain": [
       "array([1.82, 2.15, 2.3 , 2.45, 2.61, 2.62, 2.67, 2.8 , 2.85, 2.89, 2.91,\n",
       "       2.92, 2.93, 2.94, 2.96, 2.97, 2.98, 2.99, 3.01, 3.03, 3.05, 3.06,\n",
       "       3.07, 3.08, 3.1 , 3.11, 3.13, 3.14, 3.16, 3.17, 3.18, 3.19, 3.2 ,\n",
       "       3.21, 3.22, 3.23, 3.24, 3.25, 3.26, 3.27, 3.28, 3.29, 3.3 , 3.31,\n",
       "       3.32, 3.33, 3.34, 3.35, 3.36, 3.37, 3.38, 3.39, 3.4 , 3.41, 3.42,\n",
       "       3.43, 3.44, 3.45, 3.46, 3.47, 3.48, 3.49, 3.5 , 3.51, 3.52, 3.53,\n",
       "       3.54, 3.55, 3.56, 3.57, 3.58, 3.59, 3.6 , 3.61, 3.62, 3.63, 3.64,\n",
       "       3.65, 3.66, 3.67, 3.68, 3.69, 3.7 , 3.71, 3.72, 3.73, 3.74, 3.75,\n",
       "       3.76, 3.77, 3.78, 3.79, 3.8 , 3.81, 3.82, 3.83, 3.84, 3.85, 3.86,\n",
       "       3.87, 3.88, 3.89, 3.9 , 3.91, 3.92, 3.93, 3.94, 3.95, 3.96, 3.97,\n",
       "       3.98, 3.99, 4.  , 4.01, 4.02, 4.03, 4.04, 4.05, 4.06, 4.07, 4.08,\n",
       "       4.09, 4.1 , 4.11, 4.12, 4.13, 4.14, 4.15, 4.16, 4.17, 4.18, 4.19,\n",
       "       4.2 , 4.21, 4.22, 4.23, 4.24, 4.25, 4.26, 4.27, 4.28, 4.29, 4.3 ,\n",
       "       4.31, 4.32, 4.33, 4.34, 4.35, 4.36, 4.37, 4.38, 4.39, 4.4 , 4.41,\n",
       "       4.42, 4.43, 4.44, 4.45, 4.46, 4.47, 4.48, 4.49, 4.5 , 4.51, 4.52,\n",
       "       4.53, 4.54, 4.55, 4.56, 4.57, 4.58, 4.59, 4.6 , 4.61, 4.62, 4.63,\n",
       "       4.64, 4.65, 4.66, 4.67, 4.68, 4.69, 4.7 , 4.71, 4.72, 4.73, 4.74,\n",
       "       4.75, 4.76, 4.77, 4.78, 4.8 , 4.81, 4.82, 4.83, 4.86, 4.88, 4.89,\n",
       "       4.91, 4.92, 4.94, 4.95, 4.96, 5.  ])"
      ]
     },
     "execution_count": 11,
     "metadata": {},
     "output_type": "execute_result"
    }
   ],
   "source": [
    "#Exploring the book rating column distribution\n",
    "np.sort(df1['author_average_rating'].unique())"
   ]
  },
  {
   "cell_type": "code",
   "execution_count": 12,
   "id": "e7555bb6",
   "metadata": {},
   "outputs": [],
   "source": [
    "# Creating categorical column for book rating\n",
    "def create_cat(i):\n",
    "    if i >= 0 and i <=1:\n",
    "        return '0-1'\n",
    "    if i >= 1 and i <=2:\n",
    "        return '1-2'\n",
    "    if i >= 2 and i <=3:\n",
    "        return '2-3'\n",
    "    if i >= 3 and i <=4:\n",
    "        return '3-4'\n",
    "    if i >= 4 and i <=5:\n",
    "        return '4-5'\n",
    "df1['author_average_rating'] = df1['author_average_rating'].apply(create_cat)"
   ]
  },
  {
   "cell_type": "code",
   "execution_count": 13,
   "id": "d5bc3d9b",
   "metadata": {},
   "outputs": [
    {
     "name": "stdout",
     "output_type": "stream",
     "text": [
      "0        4-5\n",
      "1        4-5\n",
      "2        3-4\n",
      "3        3-4\n",
      "4        4-5\n",
      "        ... \n",
      "22886    3-4\n",
      "22887    4-5\n",
      "22888    3-4\n",
      "22889    4-5\n",
      "22890    4-5\n",
      "Name: Author_Rating, Length: 22891, dtype: object\n"
     ]
    }
   ],
   "source": [
    "# Rename the author_average_rating column to Author Average Rating and verify \n",
    "df1 = df1.rename(columns={'author_average_rating':\"Author_Rating\"})\n",
    "print(df1[\"Author_Rating\"])"
   ]
  },
  {
   "cell_type": "markdown",
   "id": "669ba498",
   "metadata": {},
   "source": [
    "We have renamed and categorized the author average rating. "
   ]
  },
  {
   "cell_type": "markdown",
   "id": "b68398ff",
   "metadata": {},
   "source": [
    "# Analysis by sorting and groupby"
   ]
  },
  {
   "cell_type": "code",
   "execution_count": 14,
   "id": "3e640957",
   "metadata": {},
   "outputs": [
    {
     "name": "stdout",
     "output_type": "stream",
     "text": [
      "               author_gender\n",
      "author_gender               \n",
      "female                 10690\n",
      "male                   12201\n"
     ]
    }
   ],
   "source": [
    "# Analysing gender \n",
    "df_group_gender = df1.groupby('author_gender').agg({'author_gender':'count'})\n",
    "print(df_group_gender)"
   ]
  },
  {
   "cell_type": "markdown",
   "id": "d7821ff5",
   "metadata": {},
   "source": [
    "Based on the above observation, the dataframe contains 10 690 books written by female authors and 12 201 books written by male authors. "
   ]
  },
  {
   "cell_type": "code",
   "execution_count": 15,
   "id": "0e2f7c1e",
   "metadata": {},
   "outputs": [
    {
     "name": "stdout",
     "output_type": "stream",
     "text": [
      "           author_name  book_title\n",
      "0           Ian McEwan           6\n",
      "1    Maggie Stiefvater           6\n",
      "2   Barbara Kingsolver           6\n",
      "3    Daphne du Maurier           6\n",
      "4         Charles Todd           6\n",
      "5          Ally Condie           6\n",
      "6        Tamora Pierce           6\n",
      "7         Ilsa J. Bick           6\n",
      "8          Ally Carter           6\n",
      "9        Perie Wolford           6\n",
      "10         Elie Wiesel           6\n",
      "11           Jo Walton           6\n",
      "12          L.J. Smith           6\n",
      "13  Seth Grahame-Smith           6\n",
      "14   Stephanie Perkins           6\n"
     ]
    }
   ],
   "source": [
    "# Top 15 author who wrote the most books on the popular list \n",
    "number_of_books_written = df1.groupby('author_name')[['book_title']].count()\\\n",
    "                                                                 .sort_values('book_title', ascending=False)\\\n",
    "                                                                 .head(15)\\\n",
    "                                                                 .reset_index()\n",
    "print(number_of_books_written)"
   ]
  },
  {
   "cell_type": "code",
   "execution_count": 16,
   "id": "92318286",
   "metadata": {},
   "outputs": [
    {
     "name": "stdout",
     "output_type": "stream",
     "text": [
      "                        book_title  num_ratings\n",
      "0            To Kill a Mockingbird     19097502\n",
      "1                 The Great Gatsby     16017642\n",
      "2        The Diary of a Young Girl     11665493\n",
      "3           The Catcher in the Rye      9508772\n",
      "4                Lord of the Flies      9358262\n"
     ]
    }
   ],
   "source": [
    "#Top 5 books with the highest ratings \n",
    "books_with_the_number_of_ratings = df1.groupby('book_title')[['num_ratings']].sum()\\\n",
    "                                                                           .sort_values('num_ratings', ascending=False)\\\n",
    "                                                                           .head(5)\\\n",
    "                                                                           .reset_index()\n",
    "print(books_with_the_number_of_ratings)"
   ]
  },
  {
   "cell_type": "code",
   "execution_count": 17,
   "id": "39b30171",
   "metadata": {
    "scrolled": true
   },
   "outputs": [
    {
     "name": "stdout",
     "output_type": "stream",
     "text": [
      "\n",
      "Book with maximum rating count= 3820921\n"
     ]
    },
    {
     "data": {
      "text/html": [
       "<div>\n",
       "<style scoped>\n",
       "    .dataframe tbody tr th:only-of-type {\n",
       "        vertical-align: middle;\n",
       "    }\n",
       "\n",
       "    .dataframe tbody tr th {\n",
       "        vertical-align: top;\n",
       "    }\n",
       "\n",
       "    .dataframe thead th {\n",
       "        text-align: right;\n",
       "    }\n",
       "</style>\n",
       "<table border=\"1\" class=\"dataframe\">\n",
       "  <thead>\n",
       "    <tr style=\"text-align: right;\">\n",
       "      <th></th>\n",
       "      <th>Author_Rating</th>\n",
       "      <th>author_gender</th>\n",
       "      <th>author_genres</th>\n",
       "      <th>author_id</th>\n",
       "      <th>author_name</th>\n",
       "      <th>author_page_url</th>\n",
       "      <th>author_rating_count</th>\n",
       "      <th>author_review_count</th>\n",
       "      <th>birthplace</th>\n",
       "      <th>book_average_rating</th>\n",
       "      <th>book_fullurl</th>\n",
       "      <th>book_id</th>\n",
       "      <th>book_title</th>\n",
       "      <th>genre_1</th>\n",
       "      <th>genre_2</th>\n",
       "      <th>num_ratings</th>\n",
       "      <th>num_reviews</th>\n",
       "      <th>pages</th>\n",
       "      <th>publish_date</th>\n",
       "      <th>score</th>\n",
       "    </tr>\n",
       "  </thead>\n",
       "  <tbody>\n",
       "    <tr>\n",
       "      <th>13802</th>\n",
       "      <td>4-5</td>\n",
       "      <td>female</td>\n",
       "      <td>literature-fiction,</td>\n",
       "      <td>1825</td>\n",
       "      <td>Harper Lee</td>\n",
       "      <td>/author/show/1825.Harper_Lee</td>\n",
       "      <td>4027504</td>\n",
       "      <td>108465</td>\n",
       "      <td>United States</td>\n",
       "      <td>4.27</td>\n",
       "      <td>https://www.goodreads.com/book/show/2657.To_Ki...</td>\n",
       "      <td>2657</td>\n",
       "      <td>To Kill a Mockingbird</td>\n",
       "      <td>Classics</td>\n",
       "      <td>Fiction</td>\n",
       "      <td>3820921</td>\n",
       "      <td>81131</td>\n",
       "      <td>284</td>\n",
       "      <td>July 11th 1960</td>\n",
       "      <td>3918</td>\n",
       "    </tr>\n",
       "  </tbody>\n",
       "</table>\n",
       "</div>"
      ],
      "text/plain": [
       "      Author_Rating author_gender        author_genres  author_id author_name  \\\n",
       "13802           4-5        female  literature-fiction,       1825  Harper Lee   \n",
       "\n",
       "                    author_page_url  author_rating_count  author_review_count  \\\n",
       "13802  /author/show/1825.Harper_Lee              4027504               108465   \n",
       "\n",
       "               birthplace  book_average_rating  \\\n",
       "13802   United States                     4.27   \n",
       "\n",
       "                                            book_fullurl book_id  \\\n",
       "13802  https://www.goodreads.com/book/show/2657.To_Ki...    2657   \n",
       "\n",
       "                        book_title   genre_1  genre_2  num_ratings  \\\n",
       "13802        To Kill a Mockingbird  Classics  Fiction      3820921   \n",
       "\n",
       "       num_reviews pages    publish_date  score  \n",
       "13802        81131   284  July 11th 1960   3918  "
      ]
     },
     "execution_count": 17,
     "metadata": {},
     "output_type": "execute_result"
    }
   ],
   "source": [
    "#Books with the maximum rating count\n",
    "print('\\nBook with maximum rating count=',df1['num_ratings'].max())\n",
    "(df1[df1['num_ratings'] == df1['num_ratings'].max()])"
   ]
  },
  {
   "cell_type": "markdown",
   "id": "3947c67d",
   "metadata": {},
   "source": [
    "Books with maximum rating counts is To Kill a Mockingbird by Harper Lee. "
   ]
  },
  {
   "cell_type": "code",
   "execution_count": 18,
   "id": "a4a7d8d1",
   "metadata": {},
   "outputs": [
    {
     "name": "stdout",
     "output_type": "stream",
     "text": [
      "highest review count =  516745\n",
      "lowest review count = 0\n"
     ]
    }
   ],
   "source": [
    "#Authors with the highest review count and lowest review count\n",
    "print('highest review count = ',df1['author_review_count'].max())\n",
    "print('lowest review count =',df1['author_review_count'].min())"
   ]
  },
  {
   "cell_type": "code",
   "execution_count": 19,
   "id": "a828b5fe",
   "metadata": {},
   "outputs": [
    {
     "name": "stdout",
     "output_type": "stream",
     "text": [
      "                                          book_title  num_ratings\n",
      "0        Books Are the New Black: My Year Working...            0\n",
      "1                                              Taker            1\n",
      "2                      The Silence Between the Sighs            2\n",
      "3                            Lifetime of Moratoriums            3\n",
      "4        The Boy in the Painting (The Time Shield...            3\n"
     ]
    }
   ],
   "source": [
    "#Top 5 books with the lowest ratings \n",
    "books_with_the_number_of_ratings1 = df1.groupby('book_title')[['num_ratings']].sum()\\\n",
    "                                                                           .sort_values('num_ratings', ascending=True)\\\n",
    "                                                                           .head(5)\\\n",
    "                                                                           .reset_index()\n",
    "print(books_with_the_number_of_ratings1)"
   ]
  },
  {
   "cell_type": "code",
   "execution_count": 20,
   "id": "e5bd5aca",
   "metadata": {},
   "outputs": [
    {
     "name": "stdout",
     "output_type": "stream",
     "text": [
      "\n",
      "Book with minimum rating count= 0\n"
     ]
    },
    {
     "data": {
      "text/html": [
       "<div>\n",
       "<style scoped>\n",
       "    .dataframe tbody tr th:only-of-type {\n",
       "        vertical-align: middle;\n",
       "    }\n",
       "\n",
       "    .dataframe tbody tr th {\n",
       "        vertical-align: top;\n",
       "    }\n",
       "\n",
       "    .dataframe thead th {\n",
       "        text-align: right;\n",
       "    }\n",
       "</style>\n",
       "<table border=\"1\" class=\"dataframe\">\n",
       "  <thead>\n",
       "    <tr style=\"text-align: right;\">\n",
       "      <th></th>\n",
       "      <th>Author_Rating</th>\n",
       "      <th>author_gender</th>\n",
       "      <th>author_genres</th>\n",
       "      <th>author_id</th>\n",
       "      <th>author_name</th>\n",
       "      <th>author_page_url</th>\n",
       "      <th>author_rating_count</th>\n",
       "      <th>author_review_count</th>\n",
       "      <th>birthplace</th>\n",
       "      <th>book_average_rating</th>\n",
       "      <th>book_fullurl</th>\n",
       "      <th>book_id</th>\n",
       "      <th>book_title</th>\n",
       "      <th>genre_1</th>\n",
       "      <th>genre_2</th>\n",
       "      <th>num_ratings</th>\n",
       "      <th>num_reviews</th>\n",
       "      <th>pages</th>\n",
       "      <th>publish_date</th>\n",
       "      <th>score</th>\n",
       "    </tr>\n",
       "  </thead>\n",
       "  <tbody>\n",
       "    <tr>\n",
       "      <th>15353</th>\n",
       "      <td>3-4</td>\n",
       "      <td>male</td>\n",
       "      <td>fiction,mystery,gay-and-lesbian,</td>\n",
       "      <td>93526</td>\n",
       "      <td>Richard P. Denney</td>\n",
       "      <td>/author/show/93526.Richard_P_Denney</td>\n",
       "      <td>465</td>\n",
       "      <td>122</td>\n",
       "      <td>United States</td>\n",
       "      <td>0.0</td>\n",
       "      <td>https://www.goodreads.com/book/show/26025161-b...</td>\n",
       "      <td>26025161</td>\n",
       "      <td>Books Are the New Black: My Year Working...</td>\n",
       "      <td>Nonfiction</td>\n",
       "      <td>Writing</td>\n",
       "      <td>0</td>\n",
       "      <td>0</td>\n",
       "      <td>155</td>\n",
       "      <td>NaN</td>\n",
       "      <td>194</td>\n",
       "    </tr>\n",
       "  </tbody>\n",
       "</table>\n",
       "</div>"
      ],
      "text/plain": [
       "      Author_Rating author_gender                     author_genres  \\\n",
       "15353           3-4          male  fiction,mystery,gay-and-lesbian,   \n",
       "\n",
       "       author_id        author_name                      author_page_url  \\\n",
       "15353      93526  Richard P. Denney  /author/show/93526.Richard_P_Denney   \n",
       "\n",
       "       author_rating_count  author_review_count          birthplace  \\\n",
       "15353                  465                  122   United States       \n",
       "\n",
       "       book_average_rating                                       book_fullurl  \\\n",
       "15353                  0.0  https://www.goodreads.com/book/show/26025161-b...   \n",
       "\n",
       "        book_id                                         book_title  \\\n",
       "15353  26025161        Books Are the New Black: My Year Working...   \n",
       "\n",
       "          genre_1  genre_2  num_ratings  num_reviews pages publish_date  score  \n",
       "15353  Nonfiction  Writing            0            0   155          NaN    194  "
      ]
     },
     "execution_count": 20,
     "metadata": {},
     "output_type": "execute_result"
    }
   ],
   "source": [
    "#Books with the minimum rating count\n",
    "print('\\nBook with minimum rating count=',df1['num_ratings'].min())\n",
    "(df1[df1['num_ratings'] == df1['num_ratings'].min()])"
   ]
  },
  {
   "cell_type": "markdown",
   "id": "3156d3cb",
   "metadata": {},
   "source": [
    "There is one book without any rating or review: \"Books Are the New Black ..\""
   ]
  },
  {
   "cell_type": "code",
   "execution_count": 21,
   "id": "91249720",
   "metadata": {},
   "outputs": [
    {
     "name": "stdout",
     "output_type": "stream",
     "text": [
      "              author_genres  author_name\n",
      "0                  romance,         2595\n",
      "1              young-adult,         2511\n",
      "2       literature-fiction,         1491\n",
      "3  science-fiction-fantasy,          983\n",
      "4                  fiction,          844\n",
      "5       historical-fiction,          516\n",
      "6                  fantasy,          511\n",
      "7        mystery-thrillers,          510\n",
      "8         children-s-books,          493\n",
      "9             contemporary,          295\n"
     ]
    }
   ],
   "source": [
    "# The number of books by genre\n",
    "number_of_books_by_genre = df1.groupby('author_genres')[['author_name']].count()\\\n",
    "                                                                 .sort_values('author_name', ascending=False)\\\n",
    "                                                                 .head(10)\\\n",
    "                                                                 .reset_index()\n",
    "print(number_of_books_by_genre)"
   ]
  },
  {
   "cell_type": "markdown",
   "id": "4fe1ce09",
   "metadata": {},
   "source": [
    "Based on the above the most common genres between popular authors are: romance, young adult and literature-fiction. "
   ]
  },
  {
   "cell_type": "markdown",
   "id": "27c006f4",
   "metadata": {},
   "source": [
    "# Indexing, Python functions "
   ]
  },
  {
   "cell_type": "code",
   "execution_count": 22,
   "id": "a3dcfc5c",
   "metadata": {
    "scrolled": true
   },
   "outputs": [
    {
     "data": {
      "text/plain": [
       "Index(['Author_Rating', 'author_gender', 'author_genres', 'author_id',\n",
       "       'author_name', 'author_page_url', 'author_rating_count',\n",
       "       'author_review_count', 'birthplace', 'book_average_rating',\n",
       "       'book_fullurl', 'book_id', 'book_title', 'genre_1', 'genre_2',\n",
       "       'num_ratings', 'num_reviews', 'pages', 'publish_date', 'score'],\n",
       "      dtype='object')"
      ]
     },
     "execution_count": 22,
     "metadata": {},
     "output_type": "execute_result"
    }
   ],
   "source": [
    "# Exploring columns \n",
    "df1.columns"
   ]
  },
  {
   "cell_type": "code",
   "execution_count": 23,
   "id": "6c1adbda",
   "metadata": {},
   "outputs": [
    {
     "name": "stdout",
     "output_type": "stream",
     "text": [
      "Numerical Columns\n",
      "\n",
      " ['author_id', 'author_rating_count', 'author_review_count', 'book_average_rating', 'num_ratings', 'num_reviews', 'score']\n",
      "\n",
      "Categorical Columns\n",
      "\n",
      " ['Author_Rating', 'author_gender', 'author_genres', 'author_name', 'author_page_url', 'birthplace', 'book_fullurl', 'book_id', 'book_title', 'genre_1', 'genre_2', 'pages', 'publish_date']\n"
     ]
    }
   ],
   "source": [
    "#Dividing numeric and categorical columns\n",
    "numerical = df1.select_dtypes(['float64','int64']).columns.values.tolist()\n",
    "categorical = df1.select_dtypes(['object']).columns.values.tolist()\n",
    "print('Numerical Columns\\n\\n',numerical)\n",
    "print()\n",
    "print('Categorical Columns\\n\\n',categorical)"
   ]
  },
  {
   "cell_type": "markdown",
   "id": "229396de",
   "metadata": {},
   "source": [
    "Descriptive Analysis - Numerical overview "
   ]
  },
  {
   "cell_type": "code",
   "execution_count": 24,
   "id": "d47385ff",
   "metadata": {
    "scrolled": true
   },
   "outputs": [
    {
     "name": "stdout",
     "output_type": "stream",
     "text": [
      "                       Count          Mean  Standard Deviation   min  \\\n",
      "author_id            22891.0  3.233957e+06        3.868091e+06   4.0   \n",
      "author_rating_count  22891.0  1.720319e+05        6.546902e+05   6.0   \n",
      "author_review_count  22891.0  9.369796e+03        2.494983e+04   0.0   \n",
      "book_average_rating  22891.0  3.951456e+00        2.913173e-01   0.0   \n",
      "num_ratings          22891.0  4.668349e+04        1.800698e+05   0.0   \n",
      "num_reviews          22891.0  2.324755e+03        6.837504e+03   0.0   \n",
      "score                22891.0  3.893028e+03        1.102202e+04  55.0   \n",
      "\n",
      "                     Q1 (25%)    Q2 (50%)    Q3 (75%)         max  \\\n",
      "author_id            40835.50  1415543.00  5775601.00  18770448.0   \n",
      "author_rating_count   4324.50    24635.00   111337.00  21117318.0   \n",
      "author_review_count    545.00     2273.00     8262.50    516745.0   \n",
      "book_average_rating      3.77        3.96        4.14         5.0   \n",
      "num_ratings            820.00     4403.00    20143.00   3820921.0   \n",
      "num_reviews            106.00      384.00     1504.00    147696.0   \n",
      "score                  832.00     1727.00     3597.50    598270.0   \n",
      "\n",
      "                         Variance         IQR       Range  \n",
      "author_id            1.496213e+13  5734765.50  18770444.0  \n",
      "author_rating_count  4.286192e+11   107012.50  21117312.0  \n",
      "author_review_count  6.224941e+08     7717.50    516745.0  \n",
      "book_average_rating  8.486578e-02        0.37         5.0  \n",
      "num_ratings          3.242514e+10    19323.00   3820921.0  \n",
      "num_reviews          4.675146e+07     1398.00    147696.0  \n",
      "score                1.214849e+08     2765.50    598215.0  \n"
     ]
    }
   ],
   "source": [
    "analysis = df1[numerical].describe().T\n",
    "analysis['Variance'] = df1[numerical].var()\n",
    "analysis['IQR'] = analysis['75%']-analysis['25%']\n",
    "analysis['Range'] = analysis['max']-analysis['min']\n",
    "analysis.rename(columns={'count':'Count',\n",
    "                            'mean':'Mean',\n",
    "                            'std':'Standard Deviation',\n",
    "                            '25%':'Q1 (25%)',\n",
    "                            '50%':'Q2 (50%)',\n",
    "                            '75%':'Q3 (75%)'},inplace=True)\n",
    "print(analysis)"
   ]
  },
  {
   "cell_type": "code",
   "execution_count": 25,
   "id": "891d8994",
   "metadata": {},
   "outputs": [
    {
     "name": "stdout",
     "output_type": "stream",
     "text": [
      "\n",
      "Books with total number of pages = 0: 0\n"
     ]
    }
   ],
   "source": [
    "# Verifying the analysis doesn't include books with 0 pages\n",
    "print('\\nBooks with total number of pages = 0:',len(df1[df1['pages'] == 0]))"
   ]
  },
  {
   "cell_type": "code",
   "execution_count": 26,
   "id": "4b9f1cad",
   "metadata": {},
   "outputs": [
    {
     "name": "stdout",
     "output_type": "stream",
     "text": [
      "0                  2000\n",
      "1           August 2005\n",
      "2                  2016\n",
      "3                  1970\n",
      "4       April 15th 1988\n",
      "5     January 10th 2004\n",
      "6      August 20th 2012\n",
      "7                  2008\n",
      "8      January 1st 1993\n",
      "9        April 1st 2007\n",
      "10                 2015\n",
      "11                 2013\n",
      "12                 2006\n",
      "13                 2010\n",
      "14                 1962\n",
      "15       April 7th 2014\n",
      "16       March 6th 2014\n",
      "17                 2014\n",
      "18                 2014\n",
      "19       June 26th 2014\n",
      "Name: publish_date, dtype: object\n"
     ]
    }
   ],
   "source": [
    "# Exploring publish-date column to see what we can find from the time perspective \n",
    "print(df1['publish_date'].head(20))"
   ]
  },
  {
   "cell_type": "code",
   "execution_count": 27,
   "id": "886ed762",
   "metadata": {},
   "outputs": [
    {
     "name": "stdout",
     "output_type": "stream",
     "text": [
      "<class 'pandas.core.frame.DataFrame'>\n",
      "RangeIndex: 22891 entries, 0 to 22890\n",
      "Data columns (total 20 columns):\n",
      " #   Column               Non-Null Count  Dtype         \n",
      "---  ------               --------------  -----         \n",
      " 0   Author_Rating        22891 non-null  object        \n",
      " 1   author_gender        22891 non-null  object        \n",
      " 2   author_genres        22891 non-null  object        \n",
      " 3   author_id            22891 non-null  int64         \n",
      " 4   author_name          22891 non-null  object        \n",
      " 5   author_page_url      22891 non-null  object        \n",
      " 6   author_rating_count  22891 non-null  int64         \n",
      " 7   author_review_count  22891 non-null  int64         \n",
      " 8   birthplace           22891 non-null  object        \n",
      " 9   book_average_rating  22891 non-null  float64       \n",
      " 10  book_fullurl         22891 non-null  object        \n",
      " 11  book_id              22891 non-null  object        \n",
      " 12  book_title           22891 non-null  object        \n",
      " 13  genre_1              22891 non-null  object        \n",
      " 14  genre_2              22891 non-null  object        \n",
      " 15  num_ratings          22891 non-null  int64         \n",
      " 16  num_reviews          22891 non-null  int64         \n",
      " 17  pages                22891 non-null  object        \n",
      " 18  publish_date         19019 non-null  datetime64[ns]\n",
      " 19  score                22891 non-null  int64         \n",
      "dtypes: datetime64[ns](1), float64(1), int64(6), object(12)\n",
      "memory usage: 3.5+ MB\n",
      "None\n"
     ]
    }
   ],
   "source": [
    "# changing publish_date to datetime and verifying \n",
    "df1['publish_date'] = pd.to_datetime(df1['publish_date'], errors = 'coerce')\n",
    "print(df1.info())"
   ]
  },
  {
   "cell_type": "code",
   "execution_count": 28,
   "id": "d37706a7",
   "metadata": {},
   "outputs": [],
   "source": [
    "# There is too many missing values for months so we will get only a years \n",
    "df1['year'] = pd.DatetimeIndex(df1['publish_date']).year"
   ]
  },
  {
   "cell_type": "code",
   "execution_count": 29,
   "id": "90566383",
   "metadata": {},
   "outputs": [
    {
     "name": "stdout",
     "output_type": "stream",
     "text": [
      "0        2000.0\n",
      "1        2005.0\n",
      "2        2016.0\n",
      "3        1970.0\n",
      "4        1988.0\n",
      "          ...  \n",
      "22886    2015.0\n",
      "22887    2014.0\n",
      "22888       NaN\n",
      "22889    2012.0\n",
      "22890    2014.0\n",
      "Name: year, Length: 22891, dtype: float64\n"
     ]
    }
   ],
   "source": [
    "# Verifying year column \n",
    "print(df1['year'])"
   ]
  },
  {
   "cell_type": "code",
   "execution_count": 30,
   "id": "cbbed9a9",
   "metadata": {},
   "outputs": [],
   "source": [
    "years = df1.groupby('year')[['author_name']].count()\\\n",
    "                                                                 .sort_values('author_name', ascending=False)\\\n",
    "                                                                 .head(10)\\\n",
    "                                                                 .reset_index()"
   ]
  },
  {
   "cell_type": "code",
   "execution_count": 31,
   "id": "4add4fe7",
   "metadata": {},
   "outputs": [
    {
     "name": "stdout",
     "output_type": "stream",
     "text": [
      "     year  author_name\n",
      "0  2013.0         2492\n",
      "1  2012.0         1955\n",
      "2  2014.0         1793\n",
      "3  2015.0         1087\n",
      "4  2010.0          925\n",
      "5  2016.0          775\n",
      "6  2009.0          693\n",
      "7  2011.0          653\n",
      "8  2008.0          611\n",
      "9  2018.0          604\n"
     ]
    }
   ],
   "source": [
    "print(years)"
   ]
  },
  {
   "cell_type": "markdown",
   "id": "843f7f07",
   "metadata": {},
   "source": [
    "Most of the popular Goodreads books was published in 2013, 2012 and 2014. "
   ]
  },
  {
   "cell_type": "markdown",
   "id": "f11506f0",
   "metadata": {},
   "source": [
    "# Visualisations "
   ]
  },
  {
   "cell_type": "markdown",
   "id": "ba651c13",
   "metadata": {},
   "source": [
    "First visualisation shows the gender distribution of female and male authors. "
   ]
  },
  {
   "cell_type": "code",
   "execution_count": 32,
   "id": "bb50f8ed",
   "metadata": {},
   "outputs": [
    {
     "data": {
      "image/png": "[encoded data removed]",
      "text/plain": [
       "<Figure size 432x288 with 1 Axes>"
      ]
     },
     "metadata": {},
     "output_type": "display_data"
    }
   ],
   "source": [
    "# genre distribution\n",
    "plt.pie(df1['author_gender'].value_counts(), autopct = '%1.2f%%', labels = df1['author_gender'].value_counts().index)\n",
    "plt.title('Genre Distribution');"
   ]
  },
  {
   "cell_type": "markdown",
   "id": "1aa5aed8",
   "metadata": {},
   "source": [
    "Let's explore if there is a particular city where authors of popular books are from."
   ]
  },
  {
   "cell_type": "code",
   "execution_count": 67,
   "id": "653bd132",
   "metadata": {},
   "outputs": [
    {
     "name": "stdout",
     "output_type": "stream",
     "text": [
      "       birthplace  author_name\n",
      "0   United States        11471\n",
      "1                         4414\n",
      "2  United Kingdom         2164\n",
      "3          Canada          647\n",
      "4           Japan          428\n",
      "5       Australia          420\n",
      "6         Germany          263\n",
      "7           Egypt          250\n",
      "8           India          230\n",
      "9         Ireland          207\n"
     ]
    }
   ],
   "source": [
    "df1.birthplace = df1.birthplace.str.lstrip()\n",
    "df1.birthplace = df1.birthplace.str.rstrip()\n",
    "birthplace =  df1.groupby('birthplace')[['author_name']].count()\\\n",
    "                                                                 .sort_values('author_name', ascending=False)\\\n",
    "                                                                 .head(10)\\\n",
    "                                                                 .reset_index()\n",
    "birthplace = birthplace['birthplace'].dropna()\n",
    "print(birthplace)"
   ]
  },
  {
   "cell_type": "markdown",
   "id": "fc5799d3",
   "metadata": {},
   "source": [
    "Most of the Goodreads popular books authors is from USA, UK and Canada. "
   ]
  },
  {
   "cell_type": "code",
   "execution_count": 70,
   "id": "66a2829a",
   "metadata": {},
   "outputs": [
    {
     "data": {
      "image/png": "[encoded data removed]",
      "text/plain": [
       "<Figure size 1080x360 with 1 Axes>"
      ]
     },
     "metadata": {
      "needs_background": "light"
     },
     "output_type": "display_data"
    }
   ],
   "source": [
    "plt.figure(figsize =[15,5])\n",
    "sns.barplot(x=\"birthplace\", y=\"author_name\", data=birthplace, palette=\"bright\")\n",
    "plt.title('Birtplace of Popular Authors');"
   ]
  },
  {
   "cell_type": "code",
   "execution_count": 71,
   "id": "c6663c71",
   "metadata": {},
   "outputs": [
    {
     "data": {
      "image/png": "[encoded data removed]",
      "text/plain": [
       "<Figure size 1080x360 with 1 Axes>"
      ]
     },
     "metadata": {
      "needs_background": "light"
     },
     "output_type": "display_data"
    }
   ],
   "source": [
    "plt.figure(figsize =[15,5])\n",
    "sns.barplot(x=\"author_genres\", y=\"author_name\", data=number_of_books_by_genre, palette=\"pastel\")\n",
    "plt.title('Most popular Genres');"
   ]
  },
  {
   "cell_type": "markdown",
   "id": "4327a9f9",
   "metadata": {},
   "source": [
    "Second visualisation looks into the most of the book_average_ratings for popular books, which is in the range of 3.0-5.0.\n"
   ]
  },
  {
   "cell_type": "code",
   "execution_count": 36,
   "id": "8742725f",
   "metadata": {
    "scrolled": true
   },
   "outputs": [
    {
     "data": {
      "image/png": "[encoded data removed]",
      "text/plain": [
       "<Figure size 360x360 with 1 Axes>"
      ]
     },
     "metadata": {
      "needs_background": "light"
     },
     "output_type": "display_data"
    }
   ],
   "source": [
    "sns.displot(df1, x='book_average_rating', kind='kde')\n",
    "plt.title('KDE for User Rating')\n",
    "plt.show()"
   ]
  },
  {
   "cell_type": "markdown",
   "id": "820e9e1c",
   "metadata": {},
   "source": [
    "Review distribution for author genres "
   ]
  },
  {
   "cell_type": "code",
   "execution_count": 37,
   "id": "515029f9",
   "metadata": {},
   "outputs": [
    {
     "name": "stdout",
     "output_type": "stream",
     "text": [
      "Sara Gruen            6\n",
      "Margaret Mitchell     6\n",
      "Seth Grahame-Smith    6\n",
      "Lenore Appelhans      6\n",
      "Barbara Kingsolver    6\n",
      "Nalini Singh          6\n",
      "Gena Showalter        6\n",
      "John Steinbeck        6\n",
      "Colleen Houck         6\n",
      "Sue Monk Kidd         6\n",
      "Name: author_name, dtype: int64\n"
     ]
    }
   ],
   "source": [
    "most_books = df1['author_name'].value_counts().head(10)\n",
    "print(most_books.head(10))"
   ]
  },
  {
   "cell_type": "markdown",
   "id": "21c887ad",
   "metadata": {},
   "source": [
    "Pie chart to visualize the ten authors who wrote popular books on our list. "
   ]
  },
  {
   "cell_type": "code",
   "execution_count": 72,
   "id": "ef511dcf",
   "metadata": {},
   "outputs": [
    {
     "data": {
      "image/png": "[encoded data removed]",
      "text/plain": [
       "<Figure size 504x504 with 1 Axes>"
      ]
     },
     "metadata": {},
     "output_type": "display_data"
    }
   ],
   "source": [
    "# visualise authors with most books\n",
    "most_books.plot(kind = 'pie', autopct = '%1.1f%%', figsize = (7, 7))\n",
    "plt.title('Authors with the most bestsellers');"
   ]
  },
  {
   "cell_type": "markdown",
   "id": "3135dc07",
   "metadata": {},
   "source": [
    "Book with the highest number of reviews. "
   ]
  },
  {
   "cell_type": "code",
   "execution_count": 73,
   "id": "d2845c59",
   "metadata": {},
   "outputs": [
    {
     "data": {
      "image/png": "[encoded data removed]",
      "text/plain": [
       "<Figure size 432x288 with 1 Axes>"
      ]
     },
     "metadata": {
      "needs_background": "light"
     },
     "output_type": "display_data"
    }
   ],
   "source": [
    "# top reviewed books\n",
    "top_reviews = df1.nlargest(10, ['num_reviews'])\n",
    "sns.barplot(x=\"num_reviews\", y=\"book_title\", data=top_reviews, palette='pastel')\n",
    "plt.title('Most Reviewed Books');"
   ]
  },
  {
   "cell_type": "markdown",
   "id": "72c5df6d",
   "metadata": {},
   "source": [
    "Books with the highest ratings. "
   ]
  },
  {
   "cell_type": "code",
   "execution_count": 74,
   "id": "6d625c17",
   "metadata": {},
   "outputs": [
    {
     "data": {
      "image/png": "[encoded data removed]",
      "text/plain": [
       "<Figure size 432x288 with 1 Axes>"
      ]
     },
     "metadata": {
      "needs_background": "light"
     },
     "output_type": "display_data"
    }
   ],
   "source": [
    "worst = df1.sort_values('num_ratings').head(10)\n",
    "sns.barplot(x=\"num_ratings\", y=\"book_title\", data=worst, palette='BrBG')\n",
    "plt.title('The Less Reviewed Books');"
   ]
  },
  {
   "cell_type": "markdown",
   "id": "fe59a6de",
   "metadata": {},
   "source": [
    "In the following histogram we will look at the book rating distribution per genders. "
   ]
  },
  {
   "cell_type": "code",
   "execution_count": 69,
   "id": "8d215f36",
   "metadata": {},
   "outputs": [
    {
     "data": {
      "image/png": "[encoded data removed]",
      "text/plain": [
       "<Figure size 441.375x360 with 1 Axes>"
      ]
     },
     "metadata": {
      "needs_background": "light"
     },
     "output_type": "display_data"
    }
   ],
   "source": [
    "sns.displot(df1, x='book_average_rating', bins=5, hue='author_gender', palette='BrBG');"
   ]
  },
  {
   "cell_type": "markdown",
   "id": "cb2ff44f",
   "metadata": {},
   "source": [
    "Forbidden, Taken and The Awakening are three most popular books on our list. "
   ]
  },
  {
   "cell_type": "code",
   "execution_count": 42,
   "id": "cd995460",
   "metadata": {},
   "outputs": [
    {
     "data": {
      "text/html": [
       "<div>\n",
       "<style scoped>\n",
       "    .dataframe tbody tr th:only-of-type {\n",
       "        vertical-align: middle;\n",
       "    }\n",
       "\n",
       "    .dataframe tbody tr th {\n",
       "        vertical-align: top;\n",
       "    }\n",
       "\n",
       "    .dataframe thead th {\n",
       "        text-align: right;\n",
       "    }\n",
       "</style>\n",
       "<table border=\"1\" class=\"dataframe\">\n",
       "  <thead>\n",
       "    <tr style=\"text-align: right;\">\n",
       "      <th></th>\n",
       "      <th>book_title</th>\n",
       "      <th>Count</th>\n",
       "    </tr>\n",
       "  </thead>\n",
       "  <tbody>\n",
       "    <tr>\n",
       "      <th>0</th>\n",
       "      <td>Forbidden</td>\n",
       "      <td>16</td>\n",
       "    </tr>\n",
       "    <tr>\n",
       "      <th>1</th>\n",
       "      <td>Taken</td>\n",
       "      <td>9</td>\n",
       "    </tr>\n",
       "    <tr>\n",
       "      <th>2</th>\n",
       "      <td>The Awakening</td>\n",
       "      <td>9</td>\n",
       "    </tr>\n",
       "    <tr>\n",
       "      <th>3</th>\n",
       "      <td>Unbreakable</td>\n",
       "      <td>8</td>\n",
       "    </tr>\n",
       "    <tr>\n",
       "      <th>4</th>\n",
       "      <td>Crash</td>\n",
       "      <td>8</td>\n",
       "    </tr>\n",
       "    <tr>\n",
       "      <th>5</th>\n",
       "      <td>Feed</td>\n",
       "      <td>8</td>\n",
       "    </tr>\n",
       "    <tr>\n",
       "      <th>6</th>\n",
       "      <td>Poison</td>\n",
       "      <td>8</td>\n",
       "    </tr>\n",
       "    <tr>\n",
       "      <th>7</th>\n",
       "      <td>Need</td>\n",
       "      <td>8</td>\n",
       "    </tr>\n",
       "    <tr>\n",
       "      <th>8</th>\n",
       "      <td>Reckless</td>\n",
       "      <td>7</td>\n",
       "    </tr>\n",
       "    <tr>\n",
       "      <th>9</th>\n",
       "      <td>Wings</td>\n",
       "      <td>7</td>\n",
       "    </tr>\n",
       "  </tbody>\n",
       "</table>\n",
       "</div>"
      ],
      "text/plain": [
       "            book_title  Count\n",
       "0            Forbidden     16\n",
       "1                Taken      9\n",
       "2        The Awakening      9\n",
       "3          Unbreakable      8\n",
       "4                Crash      8\n",
       "5                 Feed      8\n",
       "6               Poison      8\n",
       "7                 Need      8\n",
       "8             Reckless      7\n",
       "9                Wings      7"
      ]
     },
     "execution_count": 42,
     "metadata": {},
     "output_type": "execute_result"
    }
   ],
   "source": [
    "book_name = df1.book_title.value_counts().to_frame().reset_index()\n",
    "book_name.rename(columns={'book_title':'Count','index':'book_title'},inplace=True)\n",
    "book_name = book_name.iloc[:10,:]\n",
    "book_name.sort_values(by='Count',ascending=False)"
   ]
  },
  {
   "cell_type": "markdown",
   "id": "d05ceb9f",
   "metadata": {},
   "source": [
    "Visualisation of the same bellow."
   ]
  },
  {
   "cell_type": "code",
   "execution_count": 43,
   "id": "5829afa0",
   "metadata": {},
   "outputs": [
    {
     "data": {
      "image/png": "[encoded data removed]",
      "text/plain": [
       "<Figure size 1080x360 with 1 Axes>"
      ]
     },
     "metadata": {
      "needs_background": "light"
     },
     "output_type": "display_data"
    }
   ],
   "source": [
    "plt.figure(figsize =[15,5])\n",
    "sns.barplot(x=\"book_title\", y=\"Count\", data=book_name, palette=\"RdPu\");"
   ]
  },
  {
   "cell_type": "markdown",
   "id": "5f757557",
   "metadata": {},
   "source": [
    "Counting in what years most of the books were published:"
   ]
  },
  {
   "cell_type": "code",
   "execution_count": 44,
   "id": "2e00b926",
   "metadata": {},
   "outputs": [
    {
     "data": {
      "text/html": [
       "<div>\n",
       "<style scoped>\n",
       "    .dataframe tbody tr th:only-of-type {\n",
       "        vertical-align: middle;\n",
       "    }\n",
       "\n",
       "    .dataframe tbody tr th {\n",
       "        vertical-align: top;\n",
       "    }\n",
       "\n",
       "    .dataframe thead th {\n",
       "        text-align: right;\n",
       "    }\n",
       "</style>\n",
       "<table border=\"1\" class=\"dataframe\">\n",
       "  <thead>\n",
       "    <tr style=\"text-align: right;\">\n",
       "      <th></th>\n",
       "      <th>year</th>\n",
       "      <th>Count</th>\n",
       "    </tr>\n",
       "  </thead>\n",
       "  <tbody>\n",
       "    <tr>\n",
       "      <th>0</th>\n",
       "      <td>2013.0</td>\n",
       "      <td>2492</td>\n",
       "    </tr>\n",
       "    <tr>\n",
       "      <th>1</th>\n",
       "      <td>2012.0</td>\n",
       "      <td>1955</td>\n",
       "    </tr>\n",
       "    <tr>\n",
       "      <th>2</th>\n",
       "      <td>2014.0</td>\n",
       "      <td>1793</td>\n",
       "    </tr>\n",
       "    <tr>\n",
       "      <th>3</th>\n",
       "      <td>2015.0</td>\n",
       "      <td>1087</td>\n",
       "    </tr>\n",
       "    <tr>\n",
       "      <th>4</th>\n",
       "      <td>2010.0</td>\n",
       "      <td>925</td>\n",
       "    </tr>\n",
       "    <tr>\n",
       "      <th>5</th>\n",
       "      <td>2016.0</td>\n",
       "      <td>775</td>\n",
       "    </tr>\n",
       "    <tr>\n",
       "      <th>6</th>\n",
       "      <td>2009.0</td>\n",
       "      <td>693</td>\n",
       "    </tr>\n",
       "    <tr>\n",
       "      <th>7</th>\n",
       "      <td>2011.0</td>\n",
       "      <td>653</td>\n",
       "    </tr>\n",
       "    <tr>\n",
       "      <th>8</th>\n",
       "      <td>2008.0</td>\n",
       "      <td>611</td>\n",
       "    </tr>\n",
       "    <tr>\n",
       "      <th>9</th>\n",
       "      <td>2018.0</td>\n",
       "      <td>604</td>\n",
       "    </tr>\n",
       "  </tbody>\n",
       "</table>\n",
       "</div>"
      ],
      "text/plain": [
       "     year  Count\n",
       "0  2013.0   2492\n",
       "1  2012.0   1955\n",
       "2  2014.0   1793\n",
       "3  2015.0   1087\n",
       "4  2010.0    925\n",
       "5  2016.0    775\n",
       "6  2009.0    693\n",
       "7  2011.0    653\n",
       "8  2008.0    611\n",
       "9  2018.0    604"
      ]
     },
     "execution_count": 44,
     "metadata": {},
     "output_type": "execute_result"
    }
   ],
   "source": [
    "most_popmonth = df1.year.value_counts().to_frame().reset_index()\n",
    "most_popmonth.rename(columns={'year':'Count','index':'year'},inplace=True)\n",
    "most_popmonth = most_popmonth.iloc[:10,:]\n",
    "most_popmonth.sort_values(by='Count',ascending=False)"
   ]
  },
  {
   "cell_type": "markdown",
   "id": "8367f03a",
   "metadata": {},
   "source": [
    "The best years to publish book were 2013, 2012 and 2014. Visualisation of the same below. "
   ]
  },
  {
   "cell_type": "code",
   "execution_count": 45,
   "id": "54a26033",
   "metadata": {},
   "outputs": [
    {
     "data": {
      "image/png": "[encoded data removed]",
      "text/plain": [
       "<Figure size 1080x360 with 1 Axes>"
      ]
     },
     "metadata": {
      "needs_background": "light"
     },
     "output_type": "display_data"
    }
   ],
   "source": [
    "plt.figure(figsize =[15,5])\n",
    "sns.barplot(x=\"year\", y=\"Count\", data=most_popmonth, palette='colorblind');"
   ]
  },
  {
   "cell_type": "code",
   "execution_count": null,
   "id": "69b1fbcb",
   "metadata": {},
   "outputs": [],
   "source": []
  },
  {
   "cell_type": "code",
   "execution_count": null,
   "id": "1a6f3f76",
   "metadata": {},
   "outputs": [],
   "source": []
  },
  {
   "cell_type": "code",
   "execution_count": null,
   "id": "aa2db10f",
   "metadata": {},
   "outputs": [],
   "source": []
  }
 ],
 "metadata": {
  "kernelspec": {
   "display_name": "Python 3 (ipykernel)",
   "language": "python",
   "name": "python3"
  },
  "language_info": {
   "codemirror_mode": {
    "name": "ipython",
    "version": 3
   },
   "file_extension": ".py",
   "mimetype": "text/x-python",
   "name": "python",
   "nbconvert_exporter": "python",
   "pygments_lexer": "ipython3",
   "version": "3.9.5"
  }
 },
 "nbformat": 4,
 "nbformat_minor": 5
}
